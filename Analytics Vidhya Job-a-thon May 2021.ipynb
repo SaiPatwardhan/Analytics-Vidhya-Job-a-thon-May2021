{
 "cells": [
  {
   "cell_type": "code",
   "execution_count": 1,
   "metadata": {
    "scrolled": true
   },
   "outputs": [],
   "source": [
    "# IMPORTING BASIC LIBRARIES:\n",
    "# Visualization and EDA\n",
    "import matplotlib.pyplot as plt\n",
    "import pandas as pd\n",
    "import numpy as np\n",
    "import seaborn as sns\n",
    "import warnings\n",
    "warnings.filterwarnings('always')\n",
    "warnings.filterwarnings('ignore')\n",
    "\n",
    "# Class imbalance\n",
    "from imblearn.over_sampling import SMOTE\n",
    "from sklearn.model_selection import train_test_split\n",
    "# ModelBuilding\n",
    "from xgboost import XGBClassifier\n",
    "from catboost import CatBoostClassifier\n",
    "from lightgbm import LGBMClassifier\n",
    "# score\n",
    "from sklearn.metrics import roc_auc_score\n"
   ]
  },
  {
   "cell_type": "code",
   "execution_count": 2,
   "metadata": {},
   "outputs": [],
   "source": [
    "# Reading files\n",
    "train = pd.read_csv(\"train_s3TEQDk.csv\")\n",
    "test = pd.read_csv(\"test_mSzZ8RL.csv\")"
   ]
  },
  {
   "cell_type": "code",
   "execution_count": 3,
   "metadata": {},
   "outputs": [
    {
     "data": {
      "text/plain": [
       "((245725, 11), (105312, 10))"
      ]
     },
     "execution_count": 3,
     "metadata": {},
     "output_type": "execute_result"
    }
   ],
   "source": [
    "train.shape,test.shape"
   ]
  },
  {
   "cell_type": "code",
   "execution_count": 4,
   "metadata": {},
   "outputs": [
    {
     "data": {
      "text/plain": [
       "ID                      0.000000\n",
       "Gender                  0.000000\n",
       "Age                     0.000000\n",
       "Region_Code             0.000000\n",
       "Occupation              0.000000\n",
       "Channel_Code            0.000000\n",
       "Vintage                 0.000000\n",
       "Credit_Product         11.934073\n",
       "Avg_Account_Balance     0.000000\n",
       "Is_Active               0.000000\n",
       "Is_Lead                 0.000000\n",
       "dtype: float64"
      ]
     },
     "execution_count": 4,
     "metadata": {},
     "output_type": "execute_result"
    }
   ],
   "source": [
    "#ratio of null values in train data\n",
    "train.isnull().sum()/train.shape[0] *100"
   ]
  },
  {
   "cell_type": "code",
   "execution_count": 5,
   "metadata": {},
   "outputs": [
    {
     "data": {
      "text/plain": [
       "ID                      0.000000\n",
       "Gender                  0.000000\n",
       "Age                     0.000000\n",
       "Region_Code             0.000000\n",
       "Occupation              0.000000\n",
       "Channel_Code            0.000000\n",
       "Vintage                 0.000000\n",
       "Credit_Product         11.890383\n",
       "Avg_Account_Balance     0.000000\n",
       "Is_Active               0.000000\n",
       "dtype: float64"
      ]
     },
     "execution_count": 5,
     "metadata": {},
     "output_type": "execute_result"
    }
   ],
   "source": [
    "#ratio of null values in test data\n",
    "test.isnull().sum()/test.shape[0] *100"
   ]
  },
  {
   "cell_type": "code",
   "execution_count": 6,
   "metadata": {},
   "outputs": [
    {
     "data": {
      "text/html": [
       "<div>\n",
       "<style scoped>\n",
       "    .dataframe tbody tr th:only-of-type {\n",
       "        vertical-align: middle;\n",
       "    }\n",
       "\n",
       "    .dataframe tbody tr th {\n",
       "        vertical-align: top;\n",
       "    }\n",
       "\n",
       "    .dataframe thead th {\n",
       "        text-align: right;\n",
       "    }\n",
       "</style>\n",
       "<table border=\"1\" class=\"dataframe\">\n",
       "  <thead>\n",
       "    <tr style=\"text-align: right;\">\n",
       "      <th></th>\n",
       "      <th>ID</th>\n",
       "      <th>Gender</th>\n",
       "      <th>Age</th>\n",
       "      <th>Region_Code</th>\n",
       "      <th>Occupation</th>\n",
       "      <th>Channel_Code</th>\n",
       "      <th>Vintage</th>\n",
       "      <th>Credit_Product</th>\n",
       "      <th>Avg_Account_Balance</th>\n",
       "      <th>Is_Active</th>\n",
       "    </tr>\n",
       "  </thead>\n",
       "  <tbody>\n",
       "    <tr>\n",
       "      <th>0</th>\n",
       "      <td>VBENBARO</td>\n",
       "      <td>Male</td>\n",
       "      <td>29</td>\n",
       "      <td>RG254</td>\n",
       "      <td>Other</td>\n",
       "      <td>X1</td>\n",
       "      <td>25</td>\n",
       "      <td>Yes</td>\n",
       "      <td>742366</td>\n",
       "      <td>No</td>\n",
       "    </tr>\n",
       "    <tr>\n",
       "      <th>1</th>\n",
       "      <td>CCMEWNKY</td>\n",
       "      <td>Male</td>\n",
       "      <td>43</td>\n",
       "      <td>RG268</td>\n",
       "      <td>Other</td>\n",
       "      <td>X2</td>\n",
       "      <td>49</td>\n",
       "      <td>No</td>\n",
       "      <td>925537</td>\n",
       "      <td>No</td>\n",
       "    </tr>\n",
       "    <tr>\n",
       "      <th>2</th>\n",
       "      <td>VK3KGA9M</td>\n",
       "      <td>Male</td>\n",
       "      <td>31</td>\n",
       "      <td>RG270</td>\n",
       "      <td>Salaried</td>\n",
       "      <td>X1</td>\n",
       "      <td>14</td>\n",
       "      <td>No</td>\n",
       "      <td>215949</td>\n",
       "      <td>No</td>\n",
       "    </tr>\n",
       "    <tr>\n",
       "      <th>3</th>\n",
       "      <td>TT8RPZVC</td>\n",
       "      <td>Male</td>\n",
       "      <td>29</td>\n",
       "      <td>RG272</td>\n",
       "      <td>Other</td>\n",
       "      <td>X1</td>\n",
       "      <td>33</td>\n",
       "      <td>No</td>\n",
       "      <td>868070</td>\n",
       "      <td>No</td>\n",
       "    </tr>\n",
       "    <tr>\n",
       "      <th>4</th>\n",
       "      <td>SHQZEYTZ</td>\n",
       "      <td>Female</td>\n",
       "      <td>29</td>\n",
       "      <td>RG270</td>\n",
       "      <td>Other</td>\n",
       "      <td>X1</td>\n",
       "      <td>19</td>\n",
       "      <td>No</td>\n",
       "      <td>657087</td>\n",
       "      <td>No</td>\n",
       "    </tr>\n",
       "    <tr>\n",
       "      <th>...</th>\n",
       "      <td>...</td>\n",
       "      <td>...</td>\n",
       "      <td>...</td>\n",
       "      <td>...</td>\n",
       "      <td>...</td>\n",
       "      <td>...</td>\n",
       "      <td>...</td>\n",
       "      <td>...</td>\n",
       "      <td>...</td>\n",
       "      <td>...</td>\n",
       "    </tr>\n",
       "    <tr>\n",
       "      <th>105307</th>\n",
       "      <td>DBENJOYI</td>\n",
       "      <td>Male</td>\n",
       "      <td>52</td>\n",
       "      <td>RG268</td>\n",
       "      <td>Salaried</td>\n",
       "      <td>X2</td>\n",
       "      <td>86</td>\n",
       "      <td>Yes</td>\n",
       "      <td>4242558</td>\n",
       "      <td>Yes</td>\n",
       "    </tr>\n",
       "    <tr>\n",
       "      <th>105308</th>\n",
       "      <td>CWQ72DWS</td>\n",
       "      <td>Male</td>\n",
       "      <td>55</td>\n",
       "      <td>RG277</td>\n",
       "      <td>Other</td>\n",
       "      <td>X2</td>\n",
       "      <td>86</td>\n",
       "      <td>Yes</td>\n",
       "      <td>1159153</td>\n",
       "      <td>No</td>\n",
       "    </tr>\n",
       "    <tr>\n",
       "      <th>105309</th>\n",
       "      <td>HDESC8GU</td>\n",
       "      <td>Male</td>\n",
       "      <td>35</td>\n",
       "      <td>RG254</td>\n",
       "      <td>Salaried</td>\n",
       "      <td>X4</td>\n",
       "      <td>15</td>\n",
       "      <td>No</td>\n",
       "      <td>1703727</td>\n",
       "      <td>No</td>\n",
       "    </tr>\n",
       "    <tr>\n",
       "      <th>105310</th>\n",
       "      <td>2PW4SFCA</td>\n",
       "      <td>Male</td>\n",
       "      <td>53</td>\n",
       "      <td>RG254</td>\n",
       "      <td>Other</td>\n",
       "      <td>X3</td>\n",
       "      <td>93</td>\n",
       "      <td>No</td>\n",
       "      <td>737178</td>\n",
       "      <td>Yes</td>\n",
       "    </tr>\n",
       "    <tr>\n",
       "      <th>105311</th>\n",
       "      <td>F2NOYPPZ</td>\n",
       "      <td>Male</td>\n",
       "      <td>27</td>\n",
       "      <td>RG256</td>\n",
       "      <td>Salaried</td>\n",
       "      <td>X1</td>\n",
       "      <td>21</td>\n",
       "      <td>No</td>\n",
       "      <td>591565</td>\n",
       "      <td>No</td>\n",
       "    </tr>\n",
       "  </tbody>\n",
       "</table>\n",
       "<p>105312 rows × 10 columns</p>\n",
       "</div>"
      ],
      "text/plain": [
       "              ID  Gender  Age Region_Code Occupation Channel_Code  Vintage  \\\n",
       "0       VBENBARO    Male   29       RG254      Other           X1       25   \n",
       "1       CCMEWNKY    Male   43       RG268      Other           X2       49   \n",
       "2       VK3KGA9M    Male   31       RG270   Salaried           X1       14   \n",
       "3       TT8RPZVC    Male   29       RG272      Other           X1       33   \n",
       "4       SHQZEYTZ  Female   29       RG270      Other           X1       19   \n",
       "...          ...     ...  ...         ...        ...          ...      ...   \n",
       "105307  DBENJOYI    Male   52       RG268   Salaried           X2       86   \n",
       "105308  CWQ72DWS    Male   55       RG277      Other           X2       86   \n",
       "105309  HDESC8GU    Male   35       RG254   Salaried           X4       15   \n",
       "105310  2PW4SFCA    Male   53       RG254      Other           X3       93   \n",
       "105311  F2NOYPPZ    Male   27       RG256   Salaried           X1       21   \n",
       "\n",
       "       Credit_Product  Avg_Account_Balance Is_Active  \n",
       "0                 Yes               742366        No  \n",
       "1                  No               925537        No  \n",
       "2                  No               215949        No  \n",
       "3                  No               868070        No  \n",
       "4                  No               657087        No  \n",
       "...               ...                  ...       ...  \n",
       "105307            Yes              4242558       Yes  \n",
       "105308            Yes              1159153        No  \n",
       "105309             No              1703727        No  \n",
       "105310             No               737178       Yes  \n",
       "105311             No               591565        No  \n",
       "\n",
       "[105312 rows x 10 columns]"
      ]
     },
     "execution_count": 6,
     "metadata": {},
     "output_type": "execute_result"
    }
   ],
   "source": [
    "# Imputing missing values in 'Credit_Product' feature with a most occuring value\n",
    "train.apply(lambda x:x.fillna(x.value_counts().index[0]))\n",
    "test.apply(lambda x:x.fillna(x.value_counts().index[0]))"
   ]
  },
  {
   "cell_type": "markdown",
   "metadata": {},
   "source": [
    "EDA"
   ]
  },
  {
   "cell_type": "code",
   "execution_count": 7,
   "metadata": {},
   "outputs": [
    {
     "data": {
      "text/html": [
       "<div>\n",
       "<style scoped>\n",
       "    .dataframe tbody tr th:only-of-type {\n",
       "        vertical-align: middle;\n",
       "    }\n",
       "\n",
       "    .dataframe tbody tr th {\n",
       "        vertical-align: top;\n",
       "    }\n",
       "\n",
       "    .dataframe thead th {\n",
       "        text-align: right;\n",
       "    }\n",
       "</style>\n",
       "<table border=\"1\" class=\"dataframe\">\n",
       "  <thead>\n",
       "    <tr style=\"text-align: right;\">\n",
       "      <th></th>\n",
       "      <th>Age</th>\n",
       "      <th>Vintage</th>\n",
       "      <th>Avg_Account_Balance</th>\n",
       "      <th>Is_Lead</th>\n",
       "    </tr>\n",
       "  </thead>\n",
       "  <tbody>\n",
       "    <tr>\n",
       "      <th>count</th>\n",
       "      <td>245725.000000</td>\n",
       "      <td>245725.000000</td>\n",
       "      <td>2.457250e+05</td>\n",
       "      <td>245725.000000</td>\n",
       "    </tr>\n",
       "    <tr>\n",
       "      <th>mean</th>\n",
       "      <td>43.856307</td>\n",
       "      <td>46.959141</td>\n",
       "      <td>1.128403e+06</td>\n",
       "      <td>0.237208</td>\n",
       "    </tr>\n",
       "    <tr>\n",
       "      <th>std</th>\n",
       "      <td>14.828672</td>\n",
       "      <td>32.353136</td>\n",
       "      <td>8.529364e+05</td>\n",
       "      <td>0.425372</td>\n",
       "    </tr>\n",
       "    <tr>\n",
       "      <th>min</th>\n",
       "      <td>23.000000</td>\n",
       "      <td>7.000000</td>\n",
       "      <td>2.079000e+04</td>\n",
       "      <td>0.000000</td>\n",
       "    </tr>\n",
       "    <tr>\n",
       "      <th>25%</th>\n",
       "      <td>30.000000</td>\n",
       "      <td>20.000000</td>\n",
       "      <td>6.043100e+05</td>\n",
       "      <td>0.000000</td>\n",
       "    </tr>\n",
       "    <tr>\n",
       "      <th>50%</th>\n",
       "      <td>43.000000</td>\n",
       "      <td>32.000000</td>\n",
       "      <td>8.946010e+05</td>\n",
       "      <td>0.000000</td>\n",
       "    </tr>\n",
       "    <tr>\n",
       "      <th>75%</th>\n",
       "      <td>54.000000</td>\n",
       "      <td>73.000000</td>\n",
       "      <td>1.366666e+06</td>\n",
       "      <td>0.000000</td>\n",
       "    </tr>\n",
       "    <tr>\n",
       "      <th>max</th>\n",
       "      <td>85.000000</td>\n",
       "      <td>135.000000</td>\n",
       "      <td>1.035201e+07</td>\n",
       "      <td>1.000000</td>\n",
       "    </tr>\n",
       "  </tbody>\n",
       "</table>\n",
       "</div>"
      ],
      "text/plain": [
       "                 Age        Vintage  Avg_Account_Balance        Is_Lead\n",
       "count  245725.000000  245725.000000         2.457250e+05  245725.000000\n",
       "mean       43.856307      46.959141         1.128403e+06       0.237208\n",
       "std        14.828672      32.353136         8.529364e+05       0.425372\n",
       "min        23.000000       7.000000         2.079000e+04       0.000000\n",
       "25%        30.000000      20.000000         6.043100e+05       0.000000\n",
       "50%        43.000000      32.000000         8.946010e+05       0.000000\n",
       "75%        54.000000      73.000000         1.366666e+06       0.000000\n",
       "max        85.000000     135.000000         1.035201e+07       1.000000"
      ]
     },
     "execution_count": 7,
     "metadata": {},
     "output_type": "execute_result"
    }
   ],
   "source": [
    "train.describe()"
   ]
  },
  {
   "cell_type": "code",
   "execution_count": 8,
   "metadata": {},
   "outputs": [
    {
     "data": {
      "text/html": [
       "<div>\n",
       "<style scoped>\n",
       "    .dataframe tbody tr th:only-of-type {\n",
       "        vertical-align: middle;\n",
       "    }\n",
       "\n",
       "    .dataframe tbody tr th {\n",
       "        vertical-align: top;\n",
       "    }\n",
       "\n",
       "    .dataframe thead th {\n",
       "        text-align: right;\n",
       "    }\n",
       "</style>\n",
       "<table border=\"1\" class=\"dataframe\">\n",
       "  <thead>\n",
       "    <tr style=\"text-align: right;\">\n",
       "      <th></th>\n",
       "      <th>Age</th>\n",
       "      <th>Vintage</th>\n",
       "      <th>Avg_Account_Balance</th>\n",
       "    </tr>\n",
       "  </thead>\n",
       "  <tbody>\n",
       "    <tr>\n",
       "      <th>count</th>\n",
       "      <td>105312.000000</td>\n",
       "      <td>105312.000000</td>\n",
       "      <td>1.053120e+05</td>\n",
       "    </tr>\n",
       "    <tr>\n",
       "      <th>mean</th>\n",
       "      <td>43.871002</td>\n",
       "      <td>46.842819</td>\n",
       "      <td>1.134195e+06</td>\n",
       "    </tr>\n",
       "    <tr>\n",
       "      <th>std</th>\n",
       "      <td>14.872890</td>\n",
       "      <td>32.273634</td>\n",
       "      <td>8.662430e+05</td>\n",
       "    </tr>\n",
       "    <tr>\n",
       "      <th>min</th>\n",
       "      <td>24.000000</td>\n",
       "      <td>7.000000</td>\n",
       "      <td>2.259700e+04</td>\n",
       "    </tr>\n",
       "    <tr>\n",
       "      <th>25%</th>\n",
       "      <td>30.000000</td>\n",
       "      <td>20.000000</td>\n",
       "      <td>6.039822e+05</td>\n",
       "    </tr>\n",
       "    <tr>\n",
       "      <th>50%</th>\n",
       "      <td>43.000000</td>\n",
       "      <td>32.000000</td>\n",
       "      <td>8.966345e+05</td>\n",
       "    </tr>\n",
       "    <tr>\n",
       "      <th>75%</th>\n",
       "      <td>54.000000</td>\n",
       "      <td>73.000000</td>\n",
       "      <td>1.371598e+06</td>\n",
       "    </tr>\n",
       "    <tr>\n",
       "      <th>max</th>\n",
       "      <td>85.000000</td>\n",
       "      <td>135.000000</td>\n",
       "      <td>9.908858e+06</td>\n",
       "    </tr>\n",
       "  </tbody>\n",
       "</table>\n",
       "</div>"
      ],
      "text/plain": [
       "                 Age        Vintage  Avg_Account_Balance\n",
       "count  105312.000000  105312.000000         1.053120e+05\n",
       "mean       43.871002      46.842819         1.134195e+06\n",
       "std        14.872890      32.273634         8.662430e+05\n",
       "min        24.000000       7.000000         2.259700e+04\n",
       "25%        30.000000      20.000000         6.039822e+05\n",
       "50%        43.000000      32.000000         8.966345e+05\n",
       "75%        54.000000      73.000000         1.371598e+06\n",
       "max        85.000000     135.000000         9.908858e+06"
      ]
     },
     "execution_count": 8,
     "metadata": {},
     "output_type": "execute_result"
    }
   ],
   "source": [
    "test.describe()"
   ]
  },
  {
   "cell_type": "code",
   "execution_count": 9,
   "metadata": {},
   "outputs": [
    {
     "name": "stdout",
     "output_type": "stream",
     "text": [
      "['Male', 'Female']\n"
     ]
    }
   ],
   "source": [
    "# Getting unique values for 'Gender' feature\n",
    "print(list(test['Gender'].unique()))"
   ]
  },
  {
   "cell_type": "code",
   "execution_count": 10,
   "metadata": {},
   "outputs": [
    {
     "name": "stdout",
     "output_type": "stream",
     "text": [
      "['RG268', 'RG277', 'RG270', 'RG282', 'RG261', 'RG265', 'RG283', 'RG254', 'RG269', 'RG257', 'RG279', 'RG280', 'RG252', 'RG284', 'RG259', 'RG281', 'RG258', 'RG266', 'RG260', 'RG274', 'RG256', 'RG275', 'RG273', 'RG267', 'RG272', 'RG251', 'RG262', 'RG264', 'RG278', 'RG276', 'RG263', 'RG250', 'RG255', 'RG253', 'RG271']\n"
     ]
    }
   ],
   "source": [
    "# Getting unique values for 'Region_Code' feature\n",
    "print(list(train['Region_Code'].unique()))"
   ]
  },
  {
   "cell_type": "code",
   "execution_count": 11,
   "metadata": {},
   "outputs": [
    {
     "name": "stdout",
     "output_type": "stream",
     "text": [
      "['RG254', 'RG268', 'RG270', 'RG272', 'RG253', 'RG257', 'RG284', 'RG283', 'RG277', 'RG273', 'RG261', 'RG280', 'RG274', 'RG278', 'RG269', 'RG281', 'RG251', 'RG252', 'RG279', 'RG282', 'RG262', 'RG263', 'RG264', 'RG256', 'RG265', 'RG260', 'RG258', 'RG271', 'RG250', 'RG275', 'RG276', 'RG267', 'RG255', 'RG259', 'RG266']\n"
     ]
    }
   ],
   "source": [
    "# Getting unique values for 'Region_Code' feature\n",
    "print(list(test['Region_Code'].unique()))"
   ]
  },
  {
   "cell_type": "code",
   "execution_count": 12,
   "metadata": {},
   "outputs": [
    {
     "name": "stdout",
     "output_type": "stream",
     "text": [
      "['Other', 'Salaried', 'Self_Employed', 'Entrepreneur']\n"
     ]
    }
   ],
   "source": [
    "# Getting unique values for 'Occupation' feature\n",
    "print(list(test['Occupation'].unique()))"
   ]
  },
  {
   "cell_type": "code",
   "execution_count": 13,
   "metadata": {},
   "outputs": [
    {
     "name": "stdout",
     "output_type": "stream",
     "text": [
      "['X1', 'X2', 'X3', 'X4']\n"
     ]
    }
   ],
   "source": [
    "# Getting unique values for 'Channel_Code' feature\n",
    "print(list(test['Channel_Code'].unique()))"
   ]
  },
  {
   "cell_type": "code",
   "execution_count": 14,
   "metadata": {},
   "outputs": [
    {
     "name": "stdout",
     "output_type": "stream",
     "text": [
      "['Yes', nan, 'No']\n"
     ]
    }
   ],
   "source": [
    "# Getting unique values for 'Credit_Product' feature\n",
    "print(list(test['Credit_Product'].unique()))"
   ]
  },
  {
   "cell_type": "code",
   "execution_count": 15,
   "metadata": {},
   "outputs": [
    {
     "name": "stdout",
     "output_type": "stream",
     "text": [
      "['No', 'Yes']\n"
     ]
    }
   ],
   "source": [
    "# Getting unique values for 'Is_Active' feature\n",
    "print(list(test['Is_Active'].unique()))"
   ]
  },
  {
   "cell_type": "code",
   "execution_count": 16,
   "metadata": {},
   "outputs": [
    {
     "data": {
      "image/png": "[encoded data removed]",
      "text/plain": [
       "<Figure size 1296x432 with 1 Axes>"
      ]
     },
     "metadata": {
      "needs_background": "light"
     },
     "output_type": "display_data"
    }
   ],
   "source": [
    "# Target class is imbalanced\n",
    "\n",
    "ax = plt.subplots(figsize=(18, 6))\n",
    "sns.set_style(\"whitegrid\")\n",
    "sns.countplot(x='Is_Lead', data=train);\n",
    "plt.ylabel(\"No. of Observations\", size=20);\n",
    "plt.xlabel(\"Is_Lead\", size=20);"
   ]
  },
  {
   "cell_type": "code",
   "execution_count": 17,
   "metadata": {},
   "outputs": [
    {
     "data": {
      "image/png": "[encoded data removed]",
      "text/plain": [
       "<Figure size 1080x576 with 1 Axes>"
      ]
     },
     "metadata": {},
     "output_type": "display_data"
    }
   ],
   "source": [
    "# Age feature\n",
    "a = sns.catplot(x='Is_Lead', y='Age', kind='boxen', data=train);\n",
    "a.fig.set_size_inches(15,8)\n",
    "# Conclusion: People between age 50 to 65 tend to prefer credit card"
   ]
  },
  {
   "cell_type": "code",
   "execution_count": 18,
   "metadata": {},
   "outputs": [
    {
     "data": {
      "image/png": "[encoded data removed]",
      "text/plain": [
       "<Figure size 1080x576 with 1 Axes>"
      ]
     },
     "metadata": {},
     "output_type": "display_data"
    }
   ],
   "source": [
    "v = sns.catplot(x='Is_Lead', y='Vintage', kind='boxen', data=train);\n",
    "v.fig.set_size_inches(15,8)\n",
    "# Conclusion:People with vintage 60 to 100 tend to prefer credit card"
   ]
  },
  {
   "cell_type": "code",
   "execution_count": 19,
   "metadata": {},
   "outputs": [
    {
     "data": {
      "image/png": "[encoded data removed]",
      "text/plain": [
       "<Figure size 1080x576 with 1 Axes>"
      ]
     },
     "metadata": {},
     "output_type": "display_data"
    }
   ],
   "source": [
    "ia = sns.catplot(x='Is_Lead', y='Avg_Account_Balance', kind='boxen', data=train);\n",
    "ia.fig.set_size_inches(15,8)\n",
    "# Conclusion: This feature is not significant"
   ]
  },
  {
   "cell_type": "code",
   "execution_count": 20,
   "metadata": {},
   "outputs": [
    {
     "data": {
      "image/png": "[encoded data removed]",
      "text/plain": [
       "<Figure size 2160x576 with 1 Axes>"
      ]
     },
     "metadata": {},
     "output_type": "display_data"
    }
   ],
   "source": [
    "ax = plt.subplots(figsize=(30, 8))\n",
    "sns.set_style(\"whitegrid\")\n",
    "sns.countplot(x='Gender', hue='Is_Lead', data=train);\n",
    "# Conclusion: Not much information. We will one hot encode this feature"
   ]
  },
  {
   "cell_type": "code",
   "execution_count": 21,
   "metadata": {},
   "outputs": [
    {
     "data": {
      "image/png": "[encoded data removed]",
      "text/plain": [
       "<Figure size 2160x576 with 1 Axes>"
      ]
     },
     "metadata": {},
     "output_type": "display_data"
    }
   ],
   "source": [
    "ax = plt.subplots(figsize=(30, 8))\n",
    "sns.set_style(\"whitegrid\")\n",
    "sns.countplot(x='Region_Code', hue='Is_Lead', data=train);\n",
    "# Conclusion: We will do mean/target encoding for this feature"
   ]
  },
  {
   "cell_type": "code",
   "execution_count": 22,
   "metadata": {},
   "outputs": [
    {
     "data": {
      "image/png": "[encoded data removed]",
      "text/plain": [
       "<Figure size 2160x576 with 1 Axes>"
      ]
     },
     "metadata": {},
     "output_type": "display_data"
    }
   ],
   "source": [
    "ax = plt.subplots(figsize=(30, 8))\n",
    "sns.set_style(\"whitegrid\")\n",
    "sns.countplot(x='Occupation', hue='Is_Lead', data=train);\n",
    "# We will try combining this feature with 'Channel_Code'"
   ]
  },
  {
   "cell_type": "code",
   "execution_count": 23,
   "metadata": {},
   "outputs": [
    {
     "data": {
      "image/png": "[encoded data removed]",
      "text/plain": [
       "<Figure size 2160x576 with 1 Axes>"
      ]
     },
     "metadata": {},
     "output_type": "display_data"
    }
   ],
   "source": [
    "ax = plt.subplots(figsize=(30, 8))\n",
    "sns.set_style(\"whitegrid\")\n",
    "sns.countplot(x='Channel_Code', hue='Is_Lead', data=train);\n",
    "# We will try combining this feature with 'Occupation'"
   ]
  },
  {
   "cell_type": "code",
   "execution_count": 24,
   "metadata": {},
   "outputs": [
    {
     "data": {
      "image/png": "[encoded data removed]",
      "text/plain": [
       "<Figure size 2160x576 with 1 Axes>"
      ]
     },
     "metadata": {},
     "output_type": "display_data"
    }
   ],
   "source": [
    "ax = plt.subplots(figsize=(30, 8))\n",
    "sns.set_style(\"whitegrid\")\n",
    "sns.countplot(x='Credit_Product', hue='Is_Lead', data=train);\n",
    "# We will do one hot encoding for this categorical feature"
   ]
  },
  {
   "cell_type": "code",
   "execution_count": 25,
   "metadata": {
    "scrolled": true
   },
   "outputs": [
    {
     "data": {
      "image/png": "[encoded data removed]",
      "text/plain": [
       "<Figure size 2160x576 with 1 Axes>"
      ]
     },
     "metadata": {},
     "output_type": "display_data"
    }
   ],
   "source": [
    "ax = plt.subplots(figsize=(30, 8))\n",
    "sns.set_style(\"whitegrid\")\n",
    "sns.countplot(x='Is_Active', hue='Is_Lead', data=train);\n",
    "# We will do one hot encoding for this categorical feature"
   ]
  },
  {
   "cell_type": "markdown",
   "metadata": {},
   "source": [
    "FEATURE ENGINEERING\n"
   ]
  },
  {
   "cell_type": "code",
   "execution_count": 26,
   "metadata": {},
   "outputs": [],
   "source": [
    "# Combine Occupation and Channel_Code feature and store in 'Occu_ChCode'\n",
    "train['Occu_ChCode'] = train[\"Occupation\"].astype(str) + '_' + train[\"Channel_Code\"].astype(str)\n",
    "test['Occu_ChCode'] = test[\"Occupation\"].astype(str) + '_' + test[\"Channel_Code\"].astype(str)"
   ]
  },
  {
   "cell_type": "code",
   "execution_count": 27,
   "metadata": {},
   "outputs": [],
   "source": [
    "# Mean/target encoding for 'Occu_ChCode' and store in 'Combined'\n",
    "#compute global mean\n",
    "mean= train['Is_Lead'].mean()\n",
    "# compute the number of values and the mean of each group\n",
    "agg= train.groupby('Occu_ChCode')['Is_Lead'].agg(['count','mean'])\n",
    "counts= agg['count']\n",
    "means= agg['mean']\n",
    "weight =1000\n",
    "# compute smoothed means\n",
    "smooth=(counts*means+weight*mean)/(counts+weight)\n",
    "# Replace each value by smoothed mean\n",
    "train.loc[: ,'Combined']= train['Occu_ChCode'].map(smooth)\n",
    "test['Combined']= test['Occu_ChCode'].map(smooth)\n"
   ]
  },
  {
   "cell_type": "code",
   "execution_count": 28,
   "metadata": {},
   "outputs": [],
   "source": [
    "# Mean/target encoding for 'Region_Code' and store in 'Region_COde_En'\n",
    "#compute global mean\n",
    "mean= train['Is_Lead'].mean()\n",
    "# compute the number of values and the mean of each group\n",
    "agg= train.groupby('Region_Code')['Is_Lead'].agg(['count','mean'])\n",
    "counts= agg['count']\n",
    "means= agg['mean']\n",
    "weight =1000\n",
    "# compute smoothed means\n",
    "\n",
    "smooth=(counts*means+weight*mean)/(counts+weight)\n",
    "# Replace each value by smoothed mean\n",
    "train.loc[: ,'Region_COde_En']= train['Region_Code'].map(smooth)\n",
    "test['Region_COde_En']= test['Region_Code'].map(smooth)\n"
   ]
  },
  {
   "cell_type": "code",
   "execution_count": 29,
   "metadata": {},
   "outputs": [],
   "source": [
    "# age feature is numeric one. Age between 50 to 60 prefer credit card(from EDA). So we will set value 2 for this group and\n",
    "# value 1 for rest and store in feature 'Age_En'\n",
    "def label_age1(i):\n",
    "    if (train['Age'][i]>=50 and train['Age'][i]<=65):\n",
    "        return 2\n",
    "    else:\n",
    "        return 1\n",
    "    \n",
    "def label_age2(i):\n",
    "    if (test['Age'][i]>=50 and test['Age'][i]<=65):\n",
    "        return 2\n",
    "    else:\n",
    "        return 1 \n",
    "    \n",
    "age1=[]\n",
    "for i in range(len(train)):\n",
    "    age1.append(label_age1(i))\n",
    "train['Age_En']= age1\n",
    "\n",
    "age2=[]\n",
    "for i in range(len(test)):\n",
    "    age2.append(label_age2(i))\n",
    "test['Age_En']= age2"
   ]
  },
  {
   "cell_type": "code",
   "execution_count": 30,
   "metadata": {},
   "outputs": [],
   "source": [
    "# vintage feature is numeric one. Vintage between 60 to 100 prefer credit card(from EDA). So we will set value 2 for this group and\n",
    "# value 1 for rest and store in feature 'Vintage_En'\n",
    "def label_vin1(i):\n",
    "    if (train['Vintage'][i]>=60 and train['Vintage'][i]<=100):\n",
    "        return 2\n",
    "    else:\n",
    "        return 1\n",
    "    \n",
    "def label_vin2(i):\n",
    "    if (test['Vintage'][i]>=60 and test['Vintage'][i]<=100):\n",
    "        return 2\n",
    "    else:\n",
    "        return 1 \n",
    "    \n",
    "vin1=[]\n",
    "for i in range(len(train)):\n",
    "    vin1.append(label_vin1(i))\n",
    "train['Vintage_En']= vin1\n",
    "\n",
    "vin2=[]\n",
    "for i in range(len(test)):\n",
    "    vin2.append(label_vin2(i))\n",
    "test['Vintage_En']= vin2"
   ]
  },
  {
   "cell_type": "code",
   "execution_count": 31,
   "metadata": {},
   "outputs": [],
   "source": [
    "# One- hot encoding for Gender feature\n",
    "train= pd.get_dummies(train,prefix=['Gender'],columns=['Gender'])\n",
    "test= pd.get_dummies(test,prefix=['Gender'],columns=['Gender'])"
   ]
  },
  {
   "cell_type": "code",
   "execution_count": 32,
   "metadata": {},
   "outputs": [],
   "source": [
    "# One- hot encoding for Credit_Product feature\n",
    "train= pd.get_dummies(train,prefix=['Product'],columns=['Credit_Product'])\n",
    "test= pd.get_dummies(test,prefix=['Product'],columns=['Credit_Product'])\n"
   ]
  },
  {
   "cell_type": "code",
   "execution_count": 33,
   "metadata": {},
   "outputs": [],
   "source": [
    "# One- hot encoding for Is_Active feature\n",
    "train= pd.get_dummies(train,prefix=['Active'],columns=['Is_Active'])\n",
    "test= pd.get_dummies(test,prefix=['Active'],columns=['Is_Active'])"
   ]
  },
  {
   "cell_type": "code",
   "execution_count": 34,
   "metadata": {},
   "outputs": [
    {
     "data": {
      "text/plain": [
       "0    0\n",
       "1    0\n",
       "2    0\n",
       "3    0\n",
       "4    0\n",
       "Name: Is_Lead, dtype: int64"
      ]
     },
     "execution_count": 34,
     "metadata": {},
     "output_type": "execute_result"
    }
   ],
   "source": [
    "y= train['Is_Lead']\n",
    "y.head()"
   ]
  },
  {
   "cell_type": "code",
   "execution_count": 35,
   "metadata": {},
   "outputs": [],
   "source": [
    "# Dropping unneccesary features from train and test data\n",
    "train.drop(['ID','Age','Region_Code','Occupation','Channel_Code','Vintage','Avg_Account_Balance','Occu_ChCode','Is_Lead'],axis=1,inplace= True)\n",
    "test.drop(['ID','Age','Region_Code','Occupation','Channel_Code','Vintage','Avg_Account_Balance','Occu_ChCode'],axis=1,inplace= True)"
   ]
  },
  {
   "cell_type": "markdown",
   "metadata": {},
   "source": [
    "cross validation, model building, learning curves\n"
   ]
  },
  {
   "cell_type": "code",
   "execution_count": 36,
   "metadata": {},
   "outputs": [
    {
     "data": {
      "text/plain": [
       "((245725, 10), (105312, 10))"
      ]
     },
     "execution_count": 36,
     "metadata": {},
     "output_type": "execute_result"
    }
   ],
   "source": [
    "train.shape, test.shape"
   ]
  },
  {
   "cell_type": "code",
   "execution_count": 37,
   "metadata": {},
   "outputs": [],
   "source": [
    "# X_train, X_val, y_train, y_val = train_test_split(train, y, test_size=0.2, random_state=3)"
   ]
  },
  {
   "cell_type": "code",
   "execution_count": 38,
   "metadata": {},
   "outputs": [],
   "source": [
    "oversample = SMOTE()\n",
    "# X, Y = oversample.fit_resample(X_train, y_train)"
   ]
  },
  {
   "cell_type": "code",
   "execution_count": 39,
   "metadata": {},
   "outputs": [
    {
     "ename": "NameError",
     "evalue": "name 'X' is not defined",
     "output_type": "error",
     "traceback": [
      "\u001b[1;31m---------------------------------------------------------------------------\u001b[0m",
      "\u001b[1;31mNameError\u001b[0m                                 Traceback (most recent call last)",
      "\u001b[1;32m<ipython-input-39-79a36c98e814>\u001b[0m in \u001b[0;36m<module>\u001b[1;34m\u001b[0m\n\u001b[1;32m----> 1\u001b[1;33m \u001b[0mX\u001b[0m\u001b[1;33m.\u001b[0m\u001b[0mshape\u001b[0m\u001b[1;33m,\u001b[0m \u001b[0mY\u001b[0m\u001b[1;33m.\u001b[0m\u001b[0mshape\u001b[0m\u001b[1;33m\u001b[0m\u001b[1;33m\u001b[0m\u001b[0m\n\u001b[0m",
      "\u001b[1;31mNameError\u001b[0m: name 'X' is not defined"
     ]
    }
   ],
   "source": [
    "# X.shape, Y.shape"
   ]
  },
  {
   "cell_type": "markdown",
   "metadata": {},
   "source": []
  },
  {
   "cell_type": "code",
   "execution_count": 45,
   "metadata": {},
   "outputs": [],
   "source": [
    "from sklearn.model_selection import KFold, StratifiedKFold\n",
    "from sklearn.metrics import roc_auc_score\n",
    "\n",
    "def cross_val(X, y, model, params, folds=9):\n",
    "\n",
    "    skf = StratifiedKFold(n_splits=folds, shuffle=True, random_state=21)\n",
    "    for fold, (train_idx, test_idx) in enumerate(skf.split(X, y)):\n",
    "        print(f\"Fold: {fold}\")\n",
    "        x_train, y_train = X.iloc[train_idx], y.iloc[train_idx]\n",
    "        x_test, y_test = X.iloc[test_idx], y.iloc[test_idx]\n",
    "        x_train, y_train = oversample.fit_resample(x_train, y_train)\n",
    "\n",
    "        alg = model(**params)\n",
    "        alg.fit(x_train, y_train,\n",
    "                eval_set=[(x_test, y_test)],\n",
    "                early_stopping_rounds=100,\n",
    "                verbose=400)\n",
    "\n",
    "        pred = alg.predict_proba(x_test)[:, 1]\n",
    "        roc_score = roc_auc_score(y_test, pred)\n",
    "        print(f\"roc_auc_score: {roc_score}\")\n",
    "        print(\"-\"*50)\n",
    "    \n",
    "    return alg"
   ]
  },
  {
   "cell_type": "code",
   "execution_count": 46,
   "metadata": {},
   "outputs": [
    {
     "name": "stdout",
     "output_type": "stream",
     "text": [
      "Fold: 0\n",
      "Training until validation scores don't improve for 100 rounds\n",
      "[400]\tvalid_0's binary_logloss: 0.425955\n",
      "[800]\tvalid_0's binary_logloss: 0.422073\n",
      "[1200]\tvalid_0's binary_logloss: 0.420278\n",
      "[1600]\tvalid_0's binary_logloss: 0.419449\n",
      "[2000]\tvalid_0's binary_logloss: 0.419008\n",
      "[2400]\tvalid_0's binary_logloss: 0.418741\n",
      "Early stopping, best iteration is:\n",
      "[2666]\tvalid_0's binary_logloss: 0.418621\n",
      "roc_auc_score: 0.8680625469747498\n",
      "--------------------------------------------------\n",
      "Fold: 1\n",
      "Training until validation scores don't improve for 100 rounds\n",
      "[400]\tvalid_0's binary_logloss: 0.431614\n",
      "[800]\tvalid_0's binary_logloss: 0.428284\n",
      "[1200]\tvalid_0's binary_logloss: 0.42677\n",
      "[1600]\tvalid_0's binary_logloss: 0.426187\n",
      "[2000]\tvalid_0's binary_logloss: 0.425876\n",
      "[2400]\tvalid_0's binary_logloss: 0.425673\n",
      "Early stopping, best iteration is:\n",
      "[2603]\tvalid_0's binary_logloss: 0.425628\n",
      "roc_auc_score: 0.8615123766000404\n",
      "--------------------------------------------------\n",
      "Fold: 2\n",
      "Training until validation scores don't improve for 100 rounds\n",
      "[400]\tvalid_0's binary_logloss: 0.431464\n",
      "[800]\tvalid_0's binary_logloss: 0.427786\n",
      "[1200]\tvalid_0's binary_logloss: 0.426486\n",
      "[1600]\tvalid_0's binary_logloss: 0.425883\n",
      "[2000]\tvalid_0's binary_logloss: 0.425703\n",
      "Early stopping, best iteration is:\n",
      "[1930]\tvalid_0's binary_logloss: 0.425648\n",
      "roc_auc_score: 0.862845296940622\n",
      "--------------------------------------------------\n",
      "Fold: 3\n",
      "Training until validation scores don't improve for 100 rounds\n",
      "[400]\tvalid_0's binary_logloss: 0.4297\n",
      "[800]\tvalid_0's binary_logloss: 0.425856\n",
      "[1200]\tvalid_0's binary_logloss: 0.424357\n",
      "[1600]\tvalid_0's binary_logloss: 0.423671\n",
      "[2000]\tvalid_0's binary_logloss: 0.423412\n",
      "[2400]\tvalid_0's binary_logloss: 0.423182\n",
      "[2800]\tvalid_0's binary_logloss: 0.423005\n",
      "Early stopping, best iteration is:\n",
      "[2739]\tvalid_0's binary_logloss: 0.423\n",
      "roc_auc_score: 0.8637149475318415\n",
      "--------------------------------------------------\n",
      "Fold: 4\n",
      "Training until validation scores don't improve for 100 rounds\n",
      "[400]\tvalid_0's binary_logloss: 0.427148\n",
      "[800]\tvalid_0's binary_logloss: 0.423138\n",
      "[1200]\tvalid_0's binary_logloss: 0.421731\n",
      "[1600]\tvalid_0's binary_logloss: 0.421197\n",
      "[2000]\tvalid_0's binary_logloss: 0.420934\n",
      "Early stopping, best iteration is:\n",
      "[2138]\tvalid_0's binary_logloss: 0.420847\n",
      "roc_auc_score: 0.8666570632862769\n",
      "--------------------------------------------------\n",
      "Fold: 5\n",
      "Training until validation scores don't improve for 100 rounds\n",
      "[400]\tvalid_0's binary_logloss: 0.430571\n",
      "[800]\tvalid_0's binary_logloss: 0.426677\n",
      "[1200]\tvalid_0's binary_logloss: 0.425178\n",
      "[1600]\tvalid_0's binary_logloss: 0.424611\n",
      "[2000]\tvalid_0's binary_logloss: 0.424306\n",
      "Early stopping, best iteration is:\n",
      "[1990]\tvalid_0's binary_logloss: 0.424298\n",
      "roc_auc_score: 0.8626518442782733\n",
      "--------------------------------------------------\n",
      "Fold: 6\n",
      "Training until validation scores don't improve for 100 rounds\n",
      "[400]\tvalid_0's binary_logloss: 0.425672\n",
      "[800]\tvalid_0's binary_logloss: 0.421787\n",
      "[1200]\tvalid_0's binary_logloss: 0.420262\n",
      "[1600]\tvalid_0's binary_logloss: 0.419747\n",
      "[2000]\tvalid_0's binary_logloss: 0.419287\n",
      "Early stopping, best iteration is:\n",
      "[2115]\tvalid_0's binary_logloss: 0.419224\n",
      "roc_auc_score: 0.8702144359075628\n",
      "--------------------------------------------------\n",
      "Fold: 7\n",
      "Training until validation scores don't improve for 100 rounds\n",
      "[400]\tvalid_0's binary_logloss: 0.42601\n",
      "[800]\tvalid_0's binary_logloss: 0.42258\n",
      "[1200]\tvalid_0's binary_logloss: 0.421324\n",
      "[1600]\tvalid_0's binary_logloss: 0.420544\n",
      "[2000]\tvalid_0's binary_logloss: 0.420165\n",
      "[2400]\tvalid_0's binary_logloss: 0.419939\n",
      "[2800]\tvalid_0's binary_logloss: 0.419832\n",
      "[3200]\tvalid_0's binary_logloss: 0.419754\n",
      "Early stopping, best iteration is:\n",
      "[3292]\tvalid_0's binary_logloss: 0.419738\n",
      "roc_auc_score: 0.8675478302025068\n",
      "--------------------------------------------------\n",
      "Fold: 8\n",
      "Training until validation scores don't improve for 100 rounds\n",
      "[400]\tvalid_0's binary_logloss: 0.428371\n",
      "[800]\tvalid_0's binary_logloss: 0.424836\n",
      "[1200]\tvalid_0's binary_logloss: 0.423426\n",
      "[1600]\tvalid_0's binary_logloss: 0.422737\n",
      "[2000]\tvalid_0's binary_logloss: 0.422459\n",
      "Early stopping, best iteration is:\n",
      "[2158]\tvalid_0's binary_logloss: 0.422356\n",
      "roc_auc_score: 0.8636282689233603\n",
      "--------------------------------------------------\n"
     ]
    }
   ],
   "source": [
    "lgb_params= {'learning_rate': 0.045, \n",
    "             'n_estimators': 20000, \n",
    "             'max_bin': 94,\n",
    "             'num_leaves': 10, \n",
    "             'max_depth': 27, \n",
    "             'reg_alpha': 8.457, \n",
    "             'reg_lambda': 6.853, \n",
    "             'subsample': 0.749}\n",
    "\n",
    "from lightgbm import LGBMClassifier\n",
    "lgb_model = cross_val(train, y, LGBMClassifier, lgb_params)"
   ]
  },
  {
   "cell_type": "code",
   "execution_count": 47,
   "metadata": {},
   "outputs": [
    {
     "name": "stdout",
     "output_type": "stream",
     "text": [
      "Fold: 0\n",
      "[14:10:58] WARNING: C:/Users/Administrator/workspace/xgboost-win64_release_1.4.0/src/learner.cc:1095: Starting in XGBoost 1.3.0, the default evaluation metric used with the objective 'binary:logistic' was changed from 'error' to 'logloss'. Explicitly set eval_metric if you'd like to restore the old behavior.\n",
      "[0]\tvalidation_0-logloss:0.69170\n",
      "[400]\tvalidation_0-logloss:0.50595\n",
      "[800]\tvalidation_0-logloss:0.46705\n",
      "[1200]\tvalidation_0-logloss:0.45294\n",
      "[1600]\tvalidation_0-logloss:0.44335\n",
      "[2000]\tvalidation_0-logloss:0.43916\n",
      "[2400]\tvalidation_0-logloss:0.43651\n",
      "[2800]\tvalidation_0-logloss:0.43412\n",
      "[3200]\tvalidation_0-logloss:0.43279\n",
      "[3600]\tvalidation_0-logloss:0.43142\n",
      "[4000]\tvalidation_0-logloss:0.43050\n",
      "[4400]\tvalidation_0-logloss:0.42942\n",
      "[4800]\tvalidation_0-logloss:0.42866\n",
      "[5200]\tvalidation_0-logloss:0.42809\n",
      "[5600]\tvalidation_0-logloss:0.42733\n",
      "[5878]\tvalidation_0-logloss:0.42700\n",
      "roc_auc_score: 0.8681733119629331\n",
      "--------------------------------------------------\n",
      "Fold: 1\n",
      "[14:18:55] WARNING: C:/Users/Administrator/workspace/xgboost-win64_release_1.4.0/src/learner.cc:1095: Starting in XGBoost 1.3.0, the default evaluation metric used with the objective 'binary:logistic' was changed from 'error' to 'logloss'. Explicitly set eval_metric if you'd like to restore the old behavior.\n",
      "[0]\tvalidation_0-logloss:0.69165\n",
      "[400]\tvalidation_0-logloss:0.50583\n",
      "[800]\tvalidation_0-logloss:0.46849\n",
      "[1200]\tvalidation_0-logloss:0.45524\n",
      "[1600]\tvalidation_0-logloss:0.44673\n",
      "[2000]\tvalidation_0-logloss:0.44309\n",
      "[2400]\tvalidation_0-logloss:0.44081\n",
      "[2800]\tvalidation_0-logloss:0.43882\n",
      "[3200]\tvalidation_0-logloss:0.43762\n",
      "[3600]\tvalidation_0-logloss:0.43647\n",
      "[4000]\tvalidation_0-logloss:0.43577\n",
      "[4400]\tvalidation_0-logloss:0.43476\n",
      "[4800]\tvalidation_0-logloss:0.43404\n",
      "[5200]\tvalidation_0-logloss:0.43357\n",
      "[5600]\tvalidation_0-logloss:0.43293\n",
      "[6000]\tvalidation_0-logloss:0.43243\n",
      "[6400]\tvalidation_0-logloss:0.43202\n",
      "[6759]\tvalidation_0-logloss:0.43153\n",
      "roc_auc_score: 0.8630036724493461\n",
      "--------------------------------------------------\n",
      "Fold: 2\n",
      "[14:27:54] WARNING: C:/Users/Administrator/workspace/xgboost-win64_release_1.4.0/src/learner.cc:1095: Starting in XGBoost 1.3.0, the default evaluation metric used with the objective 'binary:logistic' was changed from 'error' to 'logloss'. Explicitly set eval_metric if you'd like to restore the old behavior.\n",
      "[0]\tvalidation_0-logloss:0.69170\n",
      "[400]\tvalidation_0-logloss:0.50642\n",
      "[800]\tvalidation_0-logloss:0.46871\n",
      "[1200]\tvalidation_0-logloss:0.45516\n",
      "[1600]\tvalidation_0-logloss:0.44605\n",
      "[2000]\tvalidation_0-logloss:0.44217\n",
      "[2400]\tvalidation_0-logloss:0.43968\n",
      "[2800]\tvalidation_0-logloss:0.43761\n",
      "[3200]\tvalidation_0-logloss:0.43631\n",
      "[3600]\tvalidation_0-logloss:0.43508\n",
      "[4000]\tvalidation_0-logloss:0.43423\n",
      "[4400]\tvalidation_0-logloss:0.43320\n",
      "[4800]\tvalidation_0-logloss:0.43256\n",
      "[5200]\tvalidation_0-logloss:0.43203\n",
      "[5600]\tvalidation_0-logloss:0.43143\n",
      "[6000]\tvalidation_0-logloss:0.43086\n",
      "[6400]\tvalidation_0-logloss:0.43058\n",
      "[6415]\tvalidation_0-logloss:0.43056\n",
      "roc_auc_score: 0.8634555256867266\n",
      "--------------------------------------------------\n",
      "Fold: 3\n",
      "[14:36:27] WARNING: C:/Users/Administrator/workspace/xgboost-win64_release_1.4.0/src/learner.cc:1095: Starting in XGBoost 1.3.0, the default evaluation metric used with the objective 'binary:logistic' was changed from 'error' to 'logloss'. Explicitly set eval_metric if you'd like to restore the old behavior.\n",
      "[0]\tvalidation_0-logloss:0.69162\n",
      "[400]\tvalidation_0-logloss:0.49685\n",
      "[800]\tvalidation_0-logloss:0.46739\n",
      "[1200]\tvalidation_0-logloss:0.45432\n",
      "[1600]\tvalidation_0-logloss:0.44627\n",
      "[2000]\tvalidation_0-logloss:0.44178\n",
      "[2400]\tvalidation_0-logloss:0.43911\n",
      "[2800]\tvalidation_0-logloss:0.43722\n",
      "[3200]\tvalidation_0-logloss:0.43553\n",
      "[3600]\tvalidation_0-logloss:0.43448\n",
      "[4000]\tvalidation_0-logloss:0.43356\n",
      "[4400]\tvalidation_0-logloss:0.43287\n",
      "[4800]\tvalidation_0-logloss:0.43221\n",
      "[5200]\tvalidation_0-logloss:0.43161\n",
      "[5600]\tvalidation_0-logloss:0.43105\n",
      "[5638]\tvalidation_0-logloss:0.43103\n",
      "roc_auc_score: 0.8651177090204208\n",
      "--------------------------------------------------\n",
      "Fold: 4\n",
      "[14:44:01] WARNING: C:/Users/Administrator/workspace/xgboost-win64_release_1.4.0/src/learner.cc:1095: Starting in XGBoost 1.3.0, the default evaluation metric used with the objective 'binary:logistic' was changed from 'error' to 'logloss'. Explicitly set eval_metric if you'd like to restore the old behavior.\n",
      "[0]\tvalidation_0-logloss:0.69170\n",
      "[400]\tvalidation_0-logloss:0.49525\n",
      "[800]\tvalidation_0-logloss:0.46531\n",
      "[1200]\tvalidation_0-logloss:0.45194\n",
      "[1600]\tvalidation_0-logloss:0.44357\n",
      "[2000]\tvalidation_0-logloss:0.43895\n",
      "[2400]\tvalidation_0-logloss:0.43637\n",
      "[2800]\tvalidation_0-logloss:0.43439\n",
      "[3200]\tvalidation_0-logloss:0.43272\n",
      "[3600]\tvalidation_0-logloss:0.43156\n",
      "[4000]\tvalidation_0-logloss:0.43062\n",
      "[4400]\tvalidation_0-logloss:0.42995\n",
      "[4800]\tvalidation_0-logloss:0.42928\n",
      "[5200]\tvalidation_0-logloss:0.42873\n",
      "[5600]\tvalidation_0-logloss:0.42823\n",
      "[6000]\tvalidation_0-logloss:0.42760\n",
      "[6400]\tvalidation_0-logloss:0.42709\n",
      "[6800]\tvalidation_0-logloss:0.42659\n",
      "[7200]\tvalidation_0-logloss:0.42622\n",
      "[7502]\tvalidation_0-logloss:0.42604\n",
      "roc_auc_score: 0.8686691249363314\n",
      "--------------------------------------------------\n",
      "Fold: 5\n",
      "[14:50:48] WARNING: C:/Users/Administrator/workspace/xgboost-win64_release_1.4.0/src/learner.cc:1095: Starting in XGBoost 1.3.0, the default evaluation metric used with the objective 'binary:logistic' was changed from 'error' to 'logloss'. Explicitly set eval_metric if you'd like to restore the old behavior.\n",
      "[0]\tvalidation_0-logloss:0.69168\n",
      "[400]\tvalidation_0-logloss:0.49758\n",
      "[800]\tvalidation_0-logloss:0.46800\n",
      "[1200]\tvalidation_0-logloss:0.45474\n",
      "[1600]\tvalidation_0-logloss:0.44644\n",
      "[2000]\tvalidation_0-logloss:0.44190\n",
      "[2400]\tvalidation_0-logloss:0.43928\n",
      "[2800]\tvalidation_0-logloss:0.43727\n",
      "[3200]\tvalidation_0-logloss:0.43562\n",
      "[3600]\tvalidation_0-logloss:0.43453\n",
      "[4000]\tvalidation_0-logloss:0.43360\n",
      "[4400]\tvalidation_0-logloss:0.43293\n",
      "[4800]\tvalidation_0-logloss:0.43234\n",
      "[5200]\tvalidation_0-logloss:0.43173\n",
      "[5600]\tvalidation_0-logloss:0.43116\n",
      "[6000]\tvalidation_0-logloss:0.43060\n",
      "[6400]\tvalidation_0-logloss:0.43008\n",
      "[6800]\tvalidation_0-logloss:0.42951\n",
      "[7200]\tvalidation_0-logloss:0.42908\n",
      "[7600]\tvalidation_0-logloss:0.42878\n",
      "[7816]\tvalidation_0-logloss:0.42865\n",
      "roc_auc_score: 0.864060514284817\n",
      "--------------------------------------------------\n",
      "Fold: 6\n",
      "[14:57:06] WARNING: C:/Users/Administrator/workspace/xgboost-win64_release_1.4.0/src/learner.cc:1095: Starting in XGBoost 1.3.0, the default evaluation metric used with the objective 'binary:logistic' was changed from 'error' to 'logloss'. Explicitly set eval_metric if you'd like to restore the old behavior.\n",
      "[0]\tvalidation_0-logloss:0.69166\n",
      "[400]\tvalidation_0-logloss:0.49570\n",
      "[800]\tvalidation_0-logloss:0.46579\n",
      "[1200]\tvalidation_0-logloss:0.45234\n",
      "[1600]\tvalidation_0-logloss:0.44372\n",
      "[2000]\tvalidation_0-logloss:0.43897\n",
      "[2400]\tvalidation_0-logloss:0.43612\n",
      "[2800]\tvalidation_0-logloss:0.43394\n",
      "[3200]\tvalidation_0-logloss:0.43219\n",
      "[3600]\tvalidation_0-logloss:0.43102\n",
      "[4000]\tvalidation_0-logloss:0.42993\n",
      "[4400]\tvalidation_0-logloss:0.42921\n",
      "[4800]\tvalidation_0-logloss:0.42845\n",
      "[5200]\tvalidation_0-logloss:0.42773\n",
      "[5600]\tvalidation_0-logloss:0.42711\n",
      "[6000]\tvalidation_0-logloss:0.42653\n",
      "[6400]\tvalidation_0-logloss:0.42592\n",
      "[6800]\tvalidation_0-logloss:0.42529\n",
      "[7200]\tvalidation_0-logloss:0.42487\n",
      "[7600]\tvalidation_0-logloss:0.42451\n",
      "[8000]\tvalidation_0-logloss:0.42413\n",
      "[8400]\tvalidation_0-logloss:0.42385\n",
      "[8800]\tvalidation_0-logloss:0.42341\n",
      "[8931]\tvalidation_0-logloss:0.42339\n",
      "roc_auc_score: 0.8709826989253066\n",
      "--------------------------------------------------\n",
      "Fold: 7\n",
      "[15:04:24] WARNING: C:/Users/Administrator/workspace/xgboost-win64_release_1.4.0/src/learner.cc:1095: Starting in XGBoost 1.3.0, the default evaluation metric used with the objective 'binary:logistic' was changed from 'error' to 'logloss'. Explicitly set eval_metric if you'd like to restore the old behavior.\n",
      "[0]\tvalidation_0-logloss:0.69161\n",
      "[400]\tvalidation_0-logloss:0.49559\n",
      "[800]\tvalidation_0-logloss:0.46541\n",
      "[1200]\tvalidation_0-logloss:0.45218\n",
      "[1600]\tvalidation_0-logloss:0.44381\n",
      "[2000]\tvalidation_0-logloss:0.43928\n",
      "[2400]\tvalidation_0-logloss:0.43659\n",
      "[2800]\tvalidation_0-logloss:0.43465\n",
      "[3200]\tvalidation_0-logloss:0.43291\n",
      "[3600]\tvalidation_0-logloss:0.43181\n",
      "[4000]\tvalidation_0-logloss:0.43086\n",
      "[4400]\tvalidation_0-logloss:0.43022\n",
      "[4800]\tvalidation_0-logloss:0.42956\n",
      "[5200]\tvalidation_0-logloss:0.42896\n",
      "[5600]\tvalidation_0-logloss:0.42836\n",
      "[6000]\tvalidation_0-logloss:0.42775\n",
      "[6400]\tvalidation_0-logloss:0.42727\n",
      "[6800]\tvalidation_0-logloss:0.42676\n",
      "[7200]\tvalidation_0-logloss:0.42630\n",
      "[7527]\tvalidation_0-logloss:0.42613\n",
      "roc_auc_score: 0.8675875390534009\n",
      "--------------------------------------------------\n",
      "Fold: 8\n",
      "[15:10:29] WARNING: C:/Users/Administrator/workspace/xgboost-win64_release_1.4.0/src/learner.cc:1095: Starting in XGBoost 1.3.0, the default evaluation metric used with the objective 'binary:logistic' was changed from 'error' to 'logloss'. Explicitly set eval_metric if you'd like to restore the old behavior.\n",
      "[0]\tvalidation_0-logloss:0.69170\n",
      "[400]\tvalidation_0-logloss:0.49749\n",
      "[800]\tvalidation_0-logloss:0.46838\n",
      "[1200]\tvalidation_0-logloss:0.45519\n",
      "[1600]\tvalidation_0-logloss:0.44670\n",
      "[2000]\tvalidation_0-logloss:0.44199\n",
      "[2400]\tvalidation_0-logloss:0.43916\n",
      "[2800]\tvalidation_0-logloss:0.43703\n",
      "[3200]\tvalidation_0-logloss:0.43521\n",
      "[3600]\tvalidation_0-logloss:0.43399\n",
      "[4000]\tvalidation_0-logloss:0.43294\n",
      "[4400]\tvalidation_0-logloss:0.43219\n",
      "[4800]\tvalidation_0-logloss:0.43150\n",
      "[5200]\tvalidation_0-logloss:0.43088\n",
      "[5600]\tvalidation_0-logloss:0.43036\n",
      "[6000]\tvalidation_0-logloss:0.42968\n",
      "[6400]\tvalidation_0-logloss:0.42915\n",
      "[6800]\tvalidation_0-logloss:0.42852\n",
      "[7200]\tvalidation_0-logloss:0.42802\n",
      "[7600]\tvalidation_0-logloss:0.42779\n",
      "[8000]\tvalidation_0-logloss:0.42742\n",
      "[8400]\tvalidation_0-logloss:0.42719\n",
      "[8755]\tvalidation_0-logloss:0.42689\n",
      "roc_auc_score: 0.8644229315970612\n",
      "--------------------------------------------------\n"
     ]
    }
   ],
   "source": [
    "xgb_params= {'n_estimators': 20000, \n",
    "             'max_depth': 6, \n",
    "             'learning_rate': 0.0201, \n",
    "             'reg_lambda': 29.326, \n",
    "             'subsample': 0.818, \n",
    "             'colsample_bytree': 0.235, \n",
    "             'colsample_bynode': 0.820, \n",
    "             'colsample_bylevel': 0.453}\n",
    "from xgboost import XGBClassifier\n",
    "xgb_model = cross_val(train,y, XGBClassifier, xgb_params)"
   ]
  },
  {
   "cell_type": "code",
   "execution_count": 48,
   "metadata": {},
   "outputs": [
    {
     "name": "stdout",
     "output_type": "stream",
     "text": [
      "Fold: 0\n",
      "0:\tlearn: 0.6807430\ttest: 0.6814329\tbest: 0.6814329 (0)\ttotal: 212ms\tremaining: 1h 10m 44s\n",
      "400:\tlearn: 0.4405667\ttest: 0.4322487\tbest: 0.4322487 (400)\ttotal: 16.8s\tremaining: 13m 39s\n",
      "800:\tlearn: 0.4308399\ttest: 0.4263908\tbest: 0.4263908 (800)\ttotal: 34.3s\tremaining: 13m 42s\n",
      "1200:\tlearn: 0.4235988\ttest: 0.4220731\tbest: 0.4220731 (1200)\ttotal: 53.1s\tremaining: 13m 50s\n",
      "1600:\tlearn: 0.4190689\ttest: 0.4194606\tbest: 0.4194606 (1600)\ttotal: 1m 11s\tremaining: 13m 39s\n",
      "2000:\tlearn: 0.4162225\ttest: 0.4178167\tbest: 0.4178167 (2000)\ttotal: 1m 29s\tremaining: 13m 22s\n",
      "2400:\tlearn: 0.4143094\ttest: 0.4166597\tbest: 0.4166597 (2400)\ttotal: 1m 47s\tremaining: 13m 4s\n",
      "2800:\tlearn: 0.4130618\ttest: 0.4160230\tbest: 0.4160230 (2800)\ttotal: 2m 4s\tremaining: 12m 46s\n",
      "3200:\tlearn: 0.4121362\ttest: 0.4155609\tbest: 0.4155609 (3200)\ttotal: 2m 22s\tremaining: 12m 27s\n",
      "3600:\tlearn: 0.4114572\ttest: 0.4152868\tbest: 0.4152868 (3600)\ttotal: 2m 40s\tremaining: 12m 11s\n",
      "4000:\tlearn: 0.4108767\ttest: 0.4150591\tbest: 0.4150591 (4000)\ttotal: 2m 58s\tremaining: 11m 53s\n",
      "4400:\tlearn: 0.4104196\ttest: 0.4149119\tbest: 0.4149115 (4399)\ttotal: 3m 15s\tremaining: 11m 34s\n",
      "4800:\tlearn: 0.4100012\ttest: 0.4147568\tbest: 0.4147568 (4800)\ttotal: 3m 33s\tremaining: 11m 16s\n",
      "5200:\tlearn: 0.4096429\ttest: 0.4146593\tbest: 0.4146552 (5180)\ttotal: 3m 51s\tremaining: 10m 58s\n",
      "5600:\tlearn: 0.4093168\ttest: 0.4145600\tbest: 0.4145592 (5599)\ttotal: 4m 9s\tremaining: 10m 42s\n",
      "6000:\tlearn: 0.4090445\ttest: 0.4144996\tbest: 0.4144995 (5998)\ttotal: 4m 27s\tremaining: 10m 24s\n",
      "6400:\tlearn: 0.4087889\ttest: 0.4144366\tbest: 0.4144366 (6400)\ttotal: 4m 44s\tremaining: 10m 5s\n",
      "6800:\tlearn: 0.4085547\ttest: 0.4143746\tbest: 0.4143746 (6800)\ttotal: 5m 2s\tremaining: 9m 46s\n",
      "Stopped by overfitting detector  (100 iterations wait)\n",
      "\n",
      "bestTest = 0.4143500048\n",
      "bestIteration = 7091\n",
      "\n",
      "Shrink model to first 7092 iterations.\n",
      "roc_auc_score: 0.8665417090995786\n",
      "--------------------------------------------------\n",
      "Fold: 1\n",
      "0:\tlearn: 0.6806764\ttest: 0.6814441\tbest: 0.6814441 (0)\ttotal: 61.9ms\tremaining: 20m 37s\n",
      "400:\tlearn: 0.4394591\ttest: 0.4377410\tbest: 0.4377410 (400)\ttotal: 17.7s\tremaining: 14m 24s\n",
      "800:\tlearn: 0.4296716\ttest: 0.4321539\tbest: 0.4321539 (800)\ttotal: 36.3s\tremaining: 14m 29s\n",
      "1200:\tlearn: 0.4233461\ttest: 0.4285154\tbest: 0.4285154 (1200)\ttotal: 55.3s\tremaining: 14m 24s\n",
      "1600:\tlearn: 0.4190455\ttest: 0.4262471\tbest: 0.4262471 (1600)\ttotal: 1m 14s\tremaining: 14m 11s\n",
      "2000:\tlearn: 0.4159234\ttest: 0.4245654\tbest: 0.4245654 (2000)\ttotal: 1m 32s\tremaining: 13m 53s\n",
      "2400:\tlearn: 0.4138634\ttest: 0.4235392\tbest: 0.4235392 (2400)\ttotal: 1m 50s\tremaining: 13m 32s\n",
      "2800:\tlearn: 0.4125186\ttest: 0.4229320\tbest: 0.4229320 (2800)\ttotal: 2m 8s\tremaining: 13m 11s\n",
      "3200:\tlearn: 0.4115333\ttest: 0.4225458\tbest: 0.4225458 (3200)\ttotal: 2m 26s\tremaining: 12m 49s\n",
      "3600:\tlearn: 0.4108410\ttest: 0.4223404\tbest: 0.4223404 (3600)\ttotal: 2m 44s\tremaining: 12m 27s\n",
      "4000:\tlearn: 0.4102331\ttest: 0.4221817\tbest: 0.4221817 (4000)\ttotal: 3m 2s\tremaining: 12m 7s\n",
      "4400:\tlearn: 0.4097257\ttest: 0.4220752\tbest: 0.4220742 (4345)\ttotal: 3m 19s\tremaining: 11m 48s\n",
      "4800:\tlearn: 0.4093226\ttest: 0.4219823\tbest: 0.4219823 (4800)\ttotal: 3m 37s\tremaining: 11m 27s\n",
      "Stopped by overfitting detector  (100 iterations wait)\n",
      "\n",
      "bestTest = 0.4219431643\n",
      "bestIteration = 4996\n",
      "\n",
      "Shrink model to first 4997 iterations.\n",
      "roc_auc_score: 0.8602938097381727\n",
      "--------------------------------------------------\n",
      "Fold: 2\n",
      "0:\tlearn: 0.6806314\ttest: 0.6814432\tbest: 0.6814432 (0)\ttotal: 37.6ms\tremaining: 12m 32s\n",
      "400:\tlearn: 0.4390709\ttest: 0.4355754\tbest: 0.4355754 (400)\ttotal: 17.6s\tremaining: 14m 20s\n",
      "800:\tlearn: 0.4292609\ttest: 0.4300365\tbest: 0.4300365 (800)\ttotal: 36.4s\tremaining: 14m 31s\n",
      "1200:\tlearn: 0.4220431\ttest: 0.4263619\tbest: 0.4263619 (1200)\ttotal: 55.3s\tremaining: 14m 26s\n",
      "1600:\tlearn: 0.4178497\ttest: 0.4242641\tbest: 0.4242641 (1600)\ttotal: 1m 13s\tremaining: 14m 6s\n",
      "2000:\tlearn: 0.4149438\ttest: 0.4228025\tbest: 0.4228025 (2000)\ttotal: 1m 31s\tremaining: 13m 47s\n",
      "2400:\tlearn: 0.4130508\ttest: 0.4218993\tbest: 0.4218991 (2399)\ttotal: 1m 50s\tremaining: 13m 26s\n",
      "2800:\tlearn: 0.4117483\ttest: 0.4213989\tbest: 0.4213989 (2800)\ttotal: 2m 7s\tremaining: 13m 5s\n",
      "3200:\tlearn: 0.4108418\ttest: 0.4211344\tbest: 0.4211344 (3200)\ttotal: 2m 25s\tremaining: 12m 45s\n",
      "3600:\tlearn: 0.4100984\ttest: 0.4209072\tbest: 0.4209072 (3600)\ttotal: 2m 43s\tremaining: 12m 26s\n",
      "4000:\tlearn: 0.4094904\ttest: 0.4207592\tbest: 0.4207572 (3999)\ttotal: 3m 1s\tremaining: 12m 5s\n",
      "Stopped by overfitting detector  (100 iterations wait)\n",
      "\n",
      "bestTest = 0.4207507337\n",
      "bestIteration = 4100\n",
      "\n",
      "Shrink model to first 4101 iterations.\n",
      "roc_auc_score: 0.8620124334968924\n",
      "--------------------------------------------------\n",
      "Fold: 3\n",
      "0:\tlearn: 0.6806551\ttest: 0.6814314\tbest: 0.6814314 (0)\ttotal: 43.7ms\tremaining: 14m 34s\n",
      "400:\tlearn: 0.4390760\ttest: 0.4351419\tbest: 0.4351419 (400)\ttotal: 17.7s\tremaining: 14m 26s\n",
      "800:\tlearn: 0.4285013\ttest: 0.4292317\tbest: 0.4292317 (800)\ttotal: 36.6s\tremaining: 14m 36s\n",
      "1200:\tlearn: 0.4214804\ttest: 0.4251579\tbest: 0.4251579 (1200)\ttotal: 55.4s\tremaining: 14m 27s\n",
      "1600:\tlearn: 0.4170929\ttest: 0.4226797\tbest: 0.4226797 (1600)\ttotal: 1m 13s\tremaining: 14m 9s\n",
      "2000:\tlearn: 0.4142441\ttest: 0.4210725\tbest: 0.4210725 (2000)\ttotal: 1m 32s\tremaining: 13m 47s\n",
      "2400:\tlearn: 0.4121281\ttest: 0.4199222\tbest: 0.4199222 (2400)\ttotal: 1m 51s\tremaining: 13m 34s\n",
      "2800:\tlearn: 0.4108812\ttest: 0.4193004\tbest: 0.4193004 (2800)\ttotal: 2m 10s\tremaining: 13m 22s\n",
      "3200:\tlearn: 0.4100280\ttest: 0.4189324\tbest: 0.4189324 (3200)\ttotal: 2m 30s\tremaining: 13m 9s\n",
      "3600:\tlearn: 0.4093444\ttest: 0.4186549\tbest: 0.4186549 (3600)\ttotal: 2m 50s\tremaining: 12m 56s\n",
      "4000:\tlearn: 0.4087911\ttest: 0.4184693\tbest: 0.4184693 (4000)\ttotal: 3m 9s\tremaining: 12m 37s\n",
      "4400:\tlearn: 0.4083241\ttest: 0.4183104\tbest: 0.4183095 (4394)\ttotal: 3m 27s\tremaining: 12m 15s\n",
      "4800:\tlearn: 0.4079358\ttest: 0.4182200\tbest: 0.4182185 (4786)\ttotal: 3m 45s\tremaining: 11m 54s\n",
      "5200:\tlearn: 0.4075772\ttest: 0.4181357\tbest: 0.4181357 (5200)\ttotal: 4m 3s\tremaining: 11m 33s\n",
      "5600:\tlearn: 0.4072694\ttest: 0.4180778\tbest: 0.4180746 (5554)\ttotal: 4m 21s\tremaining: 11m 12s\n",
      "Stopped by overfitting detector  (100 iterations wait)\n",
      "\n",
      "bestTest = 0.4180227666\n",
      "bestIteration = 5884\n",
      "\n",
      "Shrink model to first 5885 iterations.\n",
      "roc_auc_score: 0.8636325989527378\n",
      "--------------------------------------------------\n",
      "Fold: 4\n",
      "0:\tlearn: 0.6807782\ttest: 0.6815465\tbest: 0.6815465 (0)\ttotal: 36ms\tremaining: 12m\n",
      "400:\tlearn: 0.4409335\ttest: 0.4330987\tbest: 0.4330987 (400)\ttotal: 17.9s\tremaining: 14m 33s\n",
      "800:\tlearn: 0.4309952\ttest: 0.4274749\tbest: 0.4274749 (800)\ttotal: 37.1s\tremaining: 14m 48s\n",
      "1200:\tlearn: 0.4236656\ttest: 0.4236278\tbest: 0.4236278 (1200)\ttotal: 56s\tremaining: 14m 36s\n",
      "1600:\tlearn: 0.4190116\ttest: 0.4211944\tbest: 0.4211944 (1600)\ttotal: 1m 14s\tremaining: 14m 15s\n",
      "2000:\tlearn: 0.4161554\ttest: 0.4197113\tbest: 0.4197113 (2000)\ttotal: 1m 32s\tremaining: 13m 54s\n",
      "2400:\tlearn: 0.4141178\ttest: 0.4187044\tbest: 0.4187044 (2400)\ttotal: 1m 51s\tremaining: 13m 33s\n",
      "2800:\tlearn: 0.4127965\ttest: 0.4181086\tbest: 0.4181086 (2800)\ttotal: 2m 9s\tremaining: 13m 12s\n",
      "3200:\tlearn: 0.4117386\ttest: 0.4176944\tbest: 0.4176944 (3200)\ttotal: 2m 28s\tremaining: 12m 57s\n",
      "3600:\tlearn: 0.4110554\ttest: 0.4174511\tbest: 0.4174511 (3600)\ttotal: 2m 46s\tremaining: 12m 38s\n",
      "4000:\tlearn: 0.4105194\ttest: 0.4173417\tbest: 0.4173413 (3999)\ttotal: 3m 4s\tremaining: 12m 17s\n",
      "4400:\tlearn: 0.4100321\ttest: 0.4172144\tbest: 0.4172144 (4400)\ttotal: 3m 22s\tremaining: 11m 58s\n",
      "4800:\tlearn: 0.4096286\ttest: 0.4171126\tbest: 0.4171126 (4800)\ttotal: 3m 41s\tremaining: 11m 42s\n",
      "5200:\tlearn: 0.4092863\ttest: 0.4170579\tbest: 0.4170554 (5155)\ttotal: 4m\tremaining: 11m 24s\n",
      "5600:\tlearn: 0.4089760\ttest: 0.4170239\tbest: 0.4170239 (5600)\ttotal: 4m 18s\tremaining: 11m 5s\n",
      "Stopped by overfitting detector  (100 iterations wait)\n",
      "\n",
      "bestTest = 0.4169989789\n",
      "bestIteration = 5708\n",
      "\n",
      "Shrink model to first 5709 iterations.\n",
      "roc_auc_score: 0.8663568297671164\n",
      "--------------------------------------------------\n",
      "Fold: 5\n",
      "0:\tlearn: 0.6807624\ttest: 0.6815674\tbest: 0.6815674 (0)\ttotal: 36.6ms\tremaining: 12m 11s\n",
      "400:\tlearn: 0.4405908\ttest: 0.4358883\tbest: 0.4358883 (400)\ttotal: 17.7s\tremaining: 14m 23s\n",
      "800:\tlearn: 0.4298006\ttest: 0.4299365\tbest: 0.4299365 (800)\ttotal: 36.7s\tremaining: 14m 40s\n",
      "1200:\tlearn: 0.4233305\ttest: 0.4264013\tbest: 0.4264013 (1200)\ttotal: 55.5s\tremaining: 14m 29s\n",
      "1600:\tlearn: 0.4193457\ttest: 0.4241716\tbest: 0.4241716 (1600)\ttotal: 1m 13s\tremaining: 14m 7s\n",
      "2000:\tlearn: 0.4167317\ttest: 0.4228771\tbest: 0.4228771 (2000)\ttotal: 1m 32s\tremaining: 13m 53s\n",
      "2400:\tlearn: 0.4148353\ttest: 0.4219582\tbest: 0.4219570 (2399)\ttotal: 1m 51s\tremaining: 13m 35s\n",
      "2800:\tlearn: 0.4134643\ttest: 0.4213517\tbest: 0.4213503 (2795)\ttotal: 2m 9s\tremaining: 13m 14s\n",
      "3200:\tlearn: 0.4124726\ttest: 0.4209469\tbest: 0.4209469 (3200)\ttotal: 2m 27s\tremaining: 12m 53s\n",
      "3600:\tlearn: 0.4117260\ttest: 0.4206696\tbest: 0.4206696 (3600)\ttotal: 2m 45s\tremaining: 12m 33s\n",
      "4000:\tlearn: 0.4111225\ttest: 0.4204868\tbest: 0.4204867 (3999)\ttotal: 3m 3s\tremaining: 12m 13s\n",
      "4400:\tlearn: 0.4106449\ttest: 0.4203809\tbest: 0.4203809 (4400)\ttotal: 3m 21s\tremaining: 11m 52s\n",
      "4800:\tlearn: 0.4102054\ttest: 0.4202663\tbest: 0.4202654 (4799)\ttotal: 3m 39s\tremaining: 11m 35s\n",
      "5200:\tlearn: 0.4098298\ttest: 0.4201952\tbest: 0.4201932 (5172)\ttotal: 3m 57s\tremaining: 11m 16s\n",
      "5600:\tlearn: 0.4095114\ttest: 0.4201497\tbest: 0.4201485 (5590)\ttotal: 4m 15s\tremaining: 10m 56s\n",
      "Stopped by overfitting detector  (100 iterations wait)\n",
      "\n",
      "bestTest = 0.4201384231\n",
      "bestIteration = 5728\n",
      "\n",
      "Shrink model to first 5729 iterations.\n",
      "roc_auc_score: 0.861398764009211\n",
      "--------------------------------------------------\n",
      "Fold: 6\n",
      "0:\tlearn: 0.6808067\ttest: 0.6815156\tbest: 0.6815156 (0)\ttotal: 36.7ms\tremaining: 12m 14s\n",
      "400:\tlearn: 0.4415637\ttest: 0.4323862\tbest: 0.4323862 (400)\ttotal: 17.7s\tremaining: 14m 23s\n",
      "800:\tlearn: 0.4312609\ttest: 0.4261412\tbest: 0.4261412 (800)\ttotal: 36.6s\tremaining: 14m 37s\n",
      "1200:\tlearn: 0.4248594\ttest: 0.4221220\tbest: 0.4221220 (1200)\ttotal: 55.8s\tremaining: 14m 33s\n",
      "1600:\tlearn: 0.4209395\ttest: 0.4198448\tbest: 0.4198448 (1600)\ttotal: 1m 15s\tremaining: 14m 29s\n",
      "2000:\tlearn: 0.4178819\ttest: 0.4181653\tbest: 0.4181653 (2000)\ttotal: 1m 34s\tremaining: 14m 13s\n",
      "2400:\tlearn: 0.4155126\ttest: 0.4169165\tbest: 0.4169165 (2400)\ttotal: 1m 53s\tremaining: 13m 53s\n",
      "2800:\tlearn: 0.4141679\ttest: 0.4162478\tbest: 0.4162478 (2800)\ttotal: 2m 12s\tremaining: 13m 36s\n",
      "3200:\tlearn: 0.4132418\ttest: 0.4158285\tbest: 0.4158277 (3193)\ttotal: 2m 31s\tremaining: 13m 17s\n",
      "3600:\tlearn: 0.4125339\ttest: 0.4155271\tbest: 0.4155263 (3595)\ttotal: 2m 51s\tremaining: 13m 1s\n",
      "4000:\tlearn: 0.4119647\ttest: 0.4153250\tbest: 0.4153250 (4000)\ttotal: 3m 10s\tremaining: 12m 42s\n",
      "4400:\tlearn: 0.4115087\ttest: 0.4151776\tbest: 0.4151776 (4400)\ttotal: 3m 29s\tremaining: 12m 21s\n",
      "4800:\tlearn: 0.4110882\ttest: 0.4150320\tbest: 0.4150320 (4800)\ttotal: 3m 48s\tremaining: 12m 2s\n",
      "5200:\tlearn: 0.4107171\ttest: 0.4149492\tbest: 0.4149479 (5198)\ttotal: 4m 6s\tremaining: 11m 41s\n",
      "5600:\tlearn: 0.4103909\ttest: 0.4148816\tbest: 0.4148799 (5580)\ttotal: 4m 24s\tremaining: 11m 20s\n",
      "Stopped by overfitting detector  (100 iterations wait)\n",
      "\n",
      "bestTest = 0.4148174002\n",
      "bestIteration = 5833\n",
      "\n",
      "Shrink model to first 5834 iterations.\n",
      "roc_auc_score: 0.8689823134556703\n",
      "--------------------------------------------------\n",
      "Fold: 7\n",
      "0:\tlearn: 0.6807337\ttest: 0.6813997\tbest: 0.6813997 (0)\ttotal: 35.8ms\tremaining: 11m 55s\n",
      "400:\tlearn: 0.4400463\ttest: 0.4312162\tbest: 0.4312162 (400)\ttotal: 17.7s\tremaining: 14m 25s\n",
      "800:\tlearn: 0.4298770\ttest: 0.4256466\tbest: 0.4256466 (800)\ttotal: 36.2s\tremaining: 14m 26s\n",
      "1200:\tlearn: 0.4235445\ttest: 0.4221622\tbest: 0.4221622 (1200)\ttotal: 54.8s\tremaining: 14m 17s\n",
      "1600:\tlearn: 0.4189091\ttest: 0.4197348\tbest: 0.4197348 (1600)\ttotal: 1m 13s\tremaining: 14m\n",
      "2000:\tlearn: 0.4156953\ttest: 0.4180531\tbest: 0.4180531 (2000)\ttotal: 1m 32s\tremaining: 13m 53s\n",
      "2400:\tlearn: 0.4137569\ttest: 0.4171464\tbest: 0.4171464 (2400)\ttotal: 1m 51s\tremaining: 13m 37s\n",
      "2800:\tlearn: 0.4125551\ttest: 0.4166474\tbest: 0.4166474 (2800)\ttotal: 2m 9s\tremaining: 13m 14s\n",
      "3200:\tlearn: 0.4116554\ttest: 0.4162771\tbest: 0.4162771 (3200)\ttotal: 2m 27s\tremaining: 12m 53s\n",
      "3600:\tlearn: 0.4109360\ttest: 0.4160177\tbest: 0.4160177 (3600)\ttotal: 2m 45s\tremaining: 12m 32s\n",
      "4000:\tlearn: 0.4103666\ttest: 0.4158367\tbest: 0.4158357 (3999)\ttotal: 3m 3s\tremaining: 12m 12s\n",
      "4400:\tlearn: 0.4099085\ttest: 0.4157288\tbest: 0.4157277 (4397)\ttotal: 3m 21s\tremaining: 11m 52s\n",
      "4800:\tlearn: 0.4095114\ttest: 0.4156472\tbest: 0.4156472 (4800)\ttotal: 3m 39s\tremaining: 11m 35s\n",
      "Stopped by overfitting detector  (100 iterations wait)\n",
      "\n",
      "bestTest = 0.4156070266\n",
      "bestIteration = 5038\n",
      "\n",
      "Shrink model to first 5039 iterations.\n",
      "roc_auc_score: 0.8670077661036499\n",
      "--------------------------------------------------\n",
      "Fold: 8\n",
      "0:\tlearn: 0.6807186\ttest: 0.6814656\tbest: 0.6814656 (0)\ttotal: 36.8ms\tremaining: 12m 15s\n",
      "400:\tlearn: 0.4398396\ttest: 0.4347842\tbest: 0.4347842 (400)\ttotal: 18s\tremaining: 14m 40s\n",
      "800:\tlearn: 0.4298062\ttest: 0.4287771\tbest: 0.4287771 (800)\ttotal: 37.5s\tremaining: 14m 58s\n",
      "1200:\tlearn: 0.4225138\ttest: 0.4246999\tbest: 0.4246999 (1200)\ttotal: 56.7s\tremaining: 14m 47s\n",
      "1600:\tlearn: 0.4180804\ttest: 0.4223975\tbest: 0.4223975 (1600)\ttotal: 1m 15s\tremaining: 14m 30s\n",
      "2000:\tlearn: 0.4152266\ttest: 0.4210475\tbest: 0.4210475 (2000)\ttotal: 1m 35s\tremaining: 14m 20s\n",
      "2400:\tlearn: 0.4132654\ttest: 0.4200698\tbest: 0.4200698 (2400)\ttotal: 1m 54s\tremaining: 14m 1s\n",
      "2800:\tlearn: 0.4120870\ttest: 0.4195740\tbest: 0.4195740 (2800)\ttotal: 2m 12s\tremaining: 13m 36s\n",
      "3200:\tlearn: 0.4111640\ttest: 0.4192456\tbest: 0.4192456 (3200)\ttotal: 2m 30s\tremaining: 13m 12s\n",
      "3600:\tlearn: 0.4104545\ttest: 0.4190178\tbest: 0.4190066 (3586)\ttotal: 2m 48s\tremaining: 12m 49s\n",
      "4000:\tlearn: 0.4098673\ttest: 0.4188717\tbest: 0.4188697 (3998)\ttotal: 3m 6s\tremaining: 12m 26s\n",
      "Stopped by overfitting detector  (100 iterations wait)\n",
      "\n",
      "bestTest = 0.4188426245\n",
      "bestIteration = 4047\n",
      "\n",
      "Shrink model to first 4048 iterations.\n",
      "roc_auc_score: 0.8624538345218332\n",
      "--------------------------------------------------\n"
     ]
    }
   ],
   "source": [
    "cat_params= {'n_estimators': 20000, \n",
    "                  'depth': 4, \n",
    "                  'learning_rate': 0.023, \n",
    "                  'colsample_bylevel': 0.655, \n",
    "                  'bagging_temperature': 0.921, \n",
    "                  'l2_leaf_reg': 10.133}\n",
    "from catboost import CatBoostClassifier\n",
    "cat_model = cross_val(train, y, CatBoostClassifier, cat_params)"
   ]
  },
  {
   "cell_type": "code",
   "execution_count": 49,
   "metadata": {},
   "outputs": [],
   "source": [
    "# predictions on test/unseen data\n",
    "pred_unseen_lgb = lgb_model.predict_proba(test)[:,1]\n",
    "pred_unseen_xgb = xgb_model.predict_proba(test)[:,1]\n",
    "pred_unseen_cat = cat_model.predict_proba(test)[:,1]\n",
    "prediction_unseen1 = (pred_unseen_lgb + pred_unseen_cat+pred_unseen_xgb)/3"
   ]
  },
  {
   "cell_type": "code",
   "execution_count": 50,
   "metadata": {},
   "outputs": [],
   "source": [
    "submission= pd.read_csv(\"sample_submission_eyYijxG.csv\")"
   ]
  },
  {
   "cell_type": "code",
   "execution_count": 51,
   "metadata": {},
   "outputs": [],
   "source": [
    "submission['Is_Lead'] = prediction_unseen1\n",
    "submission.to_csv(f'submission.csv',index=False)"
   ]
  },
  {
   "cell_type": "code",
   "execution_count": null,
   "metadata": {},
   "outputs": [],
   "source": []
  }
 ],
 "metadata": {
  "kernelspec": {
   "display_name": "Python 3",
   "language": "python",
   "name": "python3"
  },
  "language_info": {
   "codemirror_mode": {
    "name": "ipython",
    "version": 3
   },
   "file_extension": ".py",
   "mimetype": "text/x-python",
   "name": "python",
   "nbconvert_exporter": "python",
   "pygments_lexer": "ipython3",
   "version": "3.8.5"
  }
 },
 "nbformat": 4,
 "nbformat_minor": 4
}
